{
 "cells": [
  {
   "cell_type": "markdown",
   "metadata": {},
   "source": [
    "# Buisness Understanding\n",
    "**Stakeholder:** \n",
    "* Medical Device Company\n",
    "\n",
    "**Problem:** \n",
    "* The major issue is being unable to produce effective monitoring and treatment technologies for myocardial infarction (MI) survivors. Being able to predict myocardial complications is essential for advancing technologies in this background. MI can occur without complications or with complications that do not worsen the long-term prognosis. However about half of the patients in the acute and subacute periods have complications that lead to worsening of the disease and even death. Predicting complications of myocardial infarction is importnat in order to carry out the necessary preventive measures in upcoming developing medical devices that will keep those complication in mind.\n"
   ]
  },
  {
   "cell_type": "markdown",
   "metadata": {},
   "source": [
    "# Data Understanding\n",
    "\n",
    "**Source:**\n",
    "* [University of California Irvine (UCI) Machine Learning Repositories](https://archive.ics.uci.edu/) \n",
    "\n",
    "**Dataset:**\n",
    "* [Myocardial Infarction Complications](https://archive.ics.uci.edu/dataset/579/myocardial+infarction+complications)\n",
    "    * 1700 rows, 124 columns \n",
    "    * 8 potential Target columns, 116 Feature columns\n",
    "    * All the column names and defintions can be found in the [Column Descriptions](../data/column_descriptions.md) file\n",
    "\n",
    "**Predictors (Myocardial Infarction Complications):**\n",
    "* FIBR_PREDS (Atrial Fibrillation) \n",
    "* PREDS_TAH (Supraventricular Tachycardia)\n",
    "* JELUD_TAH (Ventricular Tachycardia)\n",
    "* FIBR_JELUD (Ventricular Fibrillation)\n",
    "* A_V_BLOK (Third-degree AV block)\n",
    "* OTEK_LANC (Pulmonary edema)\n",
    "* RAZRIV (Myocardial rupture)\n",
    "* DRESSLER (Dressler Syndrome)"
   ]
  }
 ],
 "metadata": {
  "language_info": {
   "name": "python"
  },
  "orig_nbformat": 4
 },
 "nbformat": 4,
 "nbformat_minor": 2
}
